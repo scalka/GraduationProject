{
 "cells": [
  {
   "cell_type": "code",
   "execution_count": 1,
   "metadata": {
    "collapsed": true
   },
   "outputs": [],
   "source": [
    "import pandas as pd\n",
    "import numpy as np"
   ]
  },
  {
   "cell_type": "code",
   "execution_count": 26,
   "metadata": {},
   "outputs": [
    {
     "name": "stdout",
     "output_type": "stream",
     "text": [
      "<class 'pandas.core.frame.DataFrame'>\n",
      "RangeIndex: 5422 entries, 0 to 5421\n",
      "Data columns (total 13 columns):\n",
      "id                    5422 non-null int64\n",
      "title                 5422 non-null object\n",
      "category              5422 non-null object\n",
      "cook_time_minutes     5422 non-null int64\n",
      "ingredients           5422 non-null object\n",
      "instructions          5422 non-null object\n",
      "photo_url             5422 non-null object\n",
      "prep_time_minutes     5422 non-null int64\n",
      "total_time_minutes    5422 non-null int64\n",
      "rating_stars          5422 non-null float64\n",
      "review_count          5422 non-null int64\n",
      "calories              5422 non-null int64\n",
      "url                   5422 non-null object\n",
      "dtypes: float64(1), int64(6), object(6)\n",
      "memory usage: 550.8+ KB\n"
     ]
    }
   ],
   "source": [
    "recipes = pd.read_csv('myRec/app/recommender_comp/datasets/new_allrecipes.csv', sep=\",\", error_bad_lines=False, encoding=\"latin-1\")\n",
    "recipes.info()"
   ]
  },
  {
   "cell_type": "code",
   "execution_count": 5,
   "metadata": {},
   "outputs": [
    {
     "data": {
      "text/plain": [
       "0    ['5 cups cubed potatoes', '2 cups carrots, sli...\n",
       "1    ['1/2 cup butter', '1 cup white sugar', '1 cup...\n",
       "2    ['1 (10 pound) whole goose', '2 tablespoons ko...\n",
       "3    ['1 cup packed brown sugar', '1 cup white suga...\n",
       "4    ['10 pounds white potatoes, peeled and quarter...\n",
       "Name: ingredients, dtype: object"
      ]
     },
     "execution_count": 5,
     "metadata": {},
     "output_type": "execute_result"
    }
   ],
   "source": [
    "recipes['ingredients'].head()"
   ]
  },
  {
   "cell_type": "code",
   "execution_count": 6,
   "metadata": {},
   "outputs": [
    {
     "data": {
      "text/plain": [
       "0    ['In a 4 quart casserole dish combine cubed po...\n",
       "1    ['Cream 1/2 cup butter or margarine and 1 cup ...\n",
       "2    ['Rinse goose and pat dry. Remove excess fat. ...\n",
       "3    ['In a saucepan, combine the brown sugar, whit...\n",
       "4    ['Preheat oven to 350 degrees F (175 degrees C...\n",
       "Name: instructions, dtype: object"
      ]
     },
     "execution_count": 6,
     "metadata": {},
     "output_type": "execute_result"
    }
   ],
   "source": [
    "recipes['instructions'].head()"
   ]
  },
  {
   "cell_type": "markdown",
   "metadata": {
    "collapsed": true
   },
   "source": [
    "###  Compute Term Frequency-Inverse Document Frequency (TF-IDF) vectors for each document\n",
    "This will give you a matrix where each column represents a word in the overview vocabulary (all the words that appear in at least one document) and each column represents a recipe, as before.\n",
    "\n",
    "TF-IDF score is the frequency of a word occurring in a document, down-weighted by the number of documents in which it occurs. This is done to reduce the importance of words that occur frequently in plot overviews and therefore, their significance in computing the final similarity score"
   ]
  },
  {
   "cell_type": "code",
   "execution_count": 7,
   "metadata": {
    "collapsed": true
   },
   "outputs": [],
   "source": [
    "#Import TfIdfVectorizer from scikit-learn\n",
    "from sklearn.feature_extraction.text import TfidfVectorizer"
   ]
  },
  {
   "cell_type": "code",
   "execution_count": 8,
   "metadata": {
    "collapsed": true
   },
   "outputs": [],
   "source": [
    "#Define a TF-IDF Vectorizer Object. Remove all english stop words such as 'the', 'a'\n",
    "tfidf = TfidfVectorizer(stop_words='english')"
   ]
  },
  {
   "cell_type": "code",
   "execution_count": 18,
   "metadata": {},
   "outputs": [
    {
     "data": {
      "text/plain": [
       "0    ['5 cups cubed potatoes', '2 cups carrots, sli...\n",
       "1    ['1/2 cup butter', '1 cup white sugar', '1 cup...\n",
       "2    ['1 (10 pound) whole goose', '2 tablespoons ko...\n",
       "3    ['1 cup packed brown sugar', '1 cup white suga...\n",
       "4    ['10 pounds white potatoes, peeled and quarter...\n",
       "Name: ingredients, dtype: object"
      ]
     },
     "execution_count": 18,
     "metadata": {},
     "output_type": "execute_result"
    }
   ],
   "source": [
    "#Replace NaN with an empty string\n",
    "recipes['ingredients'] =recipes['ingredients'].fillna('')\n",
    "recipes['ingredients'].head()"
   ]
  },
  {
   "cell_type": "code",
   "execution_count": 22,
   "metadata": {
    "collapsed": true
   },
   "outputs": [],
   "source": [
    "#Construct the required TF-IDF matrix by fitting and transforming the data\n",
    "tfidf_matrix = tfidf.fit_transform(recipes['ingredients'])"
   ]
  },
  {
   "cell_type": "markdown",
   "metadata": {},
   "source": [
    "## 1621 words were used to describe ingredients, for 5422 recipes"
   ]
  },
  {
   "cell_type": "code",
   "execution_count": 24,
   "metadata": {},
   "outputs": [
    {
     "data": {
      "text/plain": [
       "(5422, 1621)"
      ]
     },
     "execution_count": 24,
     "metadata": {},
     "output_type": "execute_result"
    }
   ],
   "source": [
    "#Output the shape of tfidf_matrix\n",
    "tfidf_matrix.shape"
   ]
  },
  {
   "cell_type": "markdown",
   "metadata": {},
   "source": [
    "You will be using the cosine similarity to calculate a numeric quantity that denotes the similarity between two movies. You use the cosine similarity score since it is independent of magnitude and is relatively easy and fast to calculate (especially when used in conjunction with TF-IDF scores, which will be explained later). Mathematically, it is defined as follows: \n",
    "\n",
    "cosine(x,y)=x.y⊺||x||.||y||cosine(x,y)=x.y⊺||x||.||y||\n",
    "Since you have used the TF-IDF vectorizer, calculating the dot product will directly give you the cosine similarity score. Therefore, you will use sklearn's linear_kernel() instead of cosine_similarities() since it is faster."
   ]
  },
  {
   "cell_type": "code",
   "execution_count": 27,
   "metadata": {
    "collapsed": true
   },
   "outputs": [],
   "source": [
    "# Import linear_kernel\n",
    "from sklearn.metrics.pairwise import linear_kernel"
   ]
  },
  {
   "cell_type": "code",
   "execution_count": 28,
   "metadata": {
    "collapsed": true
   },
   "outputs": [],
   "source": [
    "# Compute the cosine similarity matrix\n",
    "cosine_sim = linear_kernel(tfidf_matrix, tfidf_matrix)"
   ]
  },
  {
   "cell_type": "markdown",
   "metadata": {},
   "source": [
    "You're going to define a function that takes in a movie title as an input and outputs a list of the 10 most similar movies. Firstly, for this, you need a reverse mapping of movie titles and DataFrame indices. In other words, you need a mechanism to identify the index of a movie in your metadata DataFrame, given its title."
   ]
  },
  {
   "cell_type": "code",
   "execution_count": 30,
   "metadata": {},
   "outputs": [],
   "source": [
    "#Construct a reverse map of indices and movie titles\n",
    "indices = pd.Series(recipes.index, index=recipes['title']).drop_duplicates()"
   ]
  },
  {
   "cell_type": "markdown",
   "metadata": {},
   "source": [
    "- Get the index of the movie given its title.\n",
    "- Get the list of cosine similarity scores for that particular movie with all movies. Convert it into a list of tuples where the first element is its position and the second is the similarity score.\n",
    "- Sort the aforementioned list of tuples based on the similarity scores; that is, the second element.\n",
    "- Get the top 10 elements of this list. Ignore the first element as it refers to self (the movie most similar to a particular movie is the movie itself).\n",
    "- Return the titles corresponding to the indices of the top elements."
   ]
  },
  {
   "cell_type": "code",
   "execution_count": 35,
   "metadata": {
    "collapsed": true
   },
   "outputs": [],
   "source": [
    "# Function that takes in movie title as input and outputs most similar movies\n",
    "def get_recommendations(title, cosine_sim=cosine_sim):\n",
    "    # Get the index of the movie that matches the title\n",
    "    idx = indices[title]\n",
    "\n",
    "    # Get the pairwsie similarity scores of all movies with that movie\n",
    "    sim_scores = list(enumerate(cosine_sim[idx]))\n",
    "\n",
    "    # Sort the movies based on the similarity scores\n",
    "    sim_scores = sorted(sim_scores, key=lambda x: x[1], reverse=True)\n",
    "\n",
    "    # Get the scores of the 10 most similar movies\n",
    "    sim_scores = sim_scores[1:11]\n",
    "\n",
    "    # Get the movie indices\n",
    "    recipe_indices = [i[0] for i in sim_scores]\n",
    "\n",
    "    # Return the top 10 most similar movies\n",
    "    return recipes['title'].iloc[recipe_indices]"
   ]
  },
  {
   "cell_type": "code",
   "execution_count": 36,
   "metadata": {},
   "outputs": [
    {
     "data": {
      "text/plain": [
       "1009               Banana Split Cookies\n",
       "2586             Cinnamon Sugar Cookies\n",
       "4344         Janine's Best Banana Bread\n",
       "2065                    Pineapple Puffs\n",
       "717                  Butterscotch Bread\n",
       "5007    Grandma's Homemade Banana Bread\n",
       "2411             Lighter Banana Muffins\n",
       "4214                    Streusel Kuchen\n",
       "2959                Finnish Pannu Kakku\n",
       "5054                Banana Bran Muffins\n",
       "Name: title, dtype: object"
      ]
     },
     "execution_count": 36,
     "metadata": {},
     "output_type": "execute_result"
    }
   ],
   "source": [
    "get_recommendations('Banana Crumb Muffins')"
   ]
  },
  {
   "cell_type": "code",
   "execution_count": 40,
   "metadata": {},
   "outputs": [
    {
     "data": {
      "text/plain": [
       "2094    Best Ever Meatloaf with Brown Gravy\n",
       "3856                      Mushroom Meatloaf\n",
       "3970                       Mushroom Risotto\n",
       "1924                            Peanut Soup\n",
       "2985                   Tomato-Mushroom Soup\n",
       "4712            Oven Fried Parmesan Chicken\n",
       "4534       Mouth-Watering Stuffed Mushrooms\n",
       "3105       Mushroom Stuffed Chicken Rollups\n",
       "5160                         Mushroom Sauce\n",
       "3021                       Creamy Corn Soup\n",
       "Name: title, dtype: object"
      ]
     },
     "execution_count": 40,
     "metadata": {},
     "output_type": "execute_result"
    }
   ],
   "source": [
    "get_recommendations('Stuffed Mushrooms IV')"
   ]
  },
  {
   "cell_type": "code",
   "execution_count": 42,
   "metadata": {},
   "outputs": [
    {
     "data": {
      "text/plain": [
       "4517        Maple Roast Turkey and Gravy\n",
       "2340     Awesome Tangerine-Glazed Turkey\n",
       "4813                   Vegetable Chowder\n",
       "4533            Beef and Barley Soup III\n",
       "3667                   Oyster Dressing I\n",
       "4862    Ibby's Pumpkin Mushroom Stuffing\n",
       "1874                 Veggie Cheddar Soup\n",
       "4024                 Chicken Jambalaya I\n",
       "1433                   Mushroom Stuffing\n",
       "5387               Mulligatawny Soup III\n",
       "Name: title, dtype: object"
      ]
     },
     "execution_count": 42,
     "metadata": {},
     "output_type": "execute_result"
    }
   ],
   "source": [
    "get_recommendations('Maple Roast Turkey')"
   ]
  },
  {
   "cell_type": "code",
   "execution_count": null,
   "metadata": {
    "collapsed": true
   },
   "outputs": [],
   "source": []
  },
  {
   "cell_type": "code",
   "execution_count": null,
   "metadata": {
    "collapsed": true
   },
   "outputs": [],
   "source": []
  },
  {
   "cell_type": "code",
   "execution_count": null,
   "metadata": {
    "collapsed": true
   },
   "outputs": [],
   "source": []
  },
  {
   "cell_type": "code",
   "execution_count": null,
   "metadata": {
    "collapsed": true
   },
   "outputs": [],
   "source": []
  }
 ],
 "metadata": {
  "kernelspec": {
   "display_name": "Python 3",
   "language": "python",
   "name": "python3"
  },
  "language_info": {
   "codemirror_mode": {
    "name": "ipython",
    "version": 3
   },
   "file_extension": ".py",
   "mimetype": "text/x-python",
   "name": "python",
   "nbconvert_exporter": "python",
   "pygments_lexer": "ipython3",
   "version": "3.6.3"
  }
 },
 "nbformat": 4,
 "nbformat_minor": 2
}
