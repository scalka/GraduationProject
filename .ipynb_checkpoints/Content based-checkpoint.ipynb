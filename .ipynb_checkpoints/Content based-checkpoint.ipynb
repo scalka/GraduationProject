{
 "cells": [
  {
   "cell_type": "code",
   "execution_count": null,
   "metadata": {
    "collapsed": true
   },
   "outputs": [],
   "source": [
    "import pandas as pd\n",
    "import numpy as np"
   ]
  },
  {
   "cell_type": "code",
   "execution_count": null,
   "metadata": {},
   "outputs": [],
   "source": [
    "recipes = pd.read_csv('myRec/app/recommender_comp/datasets/new_allrecipes.csv', sep=\",\", error_bad_lines=False, encoding=\"latin-1\")\n",
    "recipes"
   ]
  },
  {
   "cell_type": "code",
   "execution_count": 33,
   "metadata": {},
   "outputs": [
    {
     "data": {
      "text/plain": [
       "0    ['5 cups cubed potatoes', '2 cups carrots, sli...\n",
       "1    ['1/2 cup butter', '1 cup white sugar', '1 cup...\n",
       "2    ['1 (10 pound) whole goose', '2 tablespoons ko...\n",
       "3    ['1 cup packed brown sugar', '1 cup white suga...\n",
       "4    ['10 pounds white potatoes, peeled and quarter...\n",
       "Name: ingredients, dtype: object"
      ]
     },
     "execution_count": 33,
     "metadata": {},
     "output_type": "execute_result"
    }
   ],
   "source": [
    "recipes['ingredients'].head()"
   ]
  },
  {
   "cell_type": "code",
   "execution_count": 34,
   "metadata": {},
   "outputs": [
    {
     "data": {
      "text/plain": [
       "0    ['In a 4 quart casserole dish combine cubed po...\n",
       "1    ['Cream 1/2 cup butter or margarine and 1 cup ...\n",
       "2    ['Rinse goose and pat dry. Remove excess fat. ...\n",
       "3    ['In a saucepan, combine the brown sugar, whit...\n",
       "4    ['Preheat oven to 350 degrees F (175 degrees C...\n",
       "Name: instructions, dtype: object"
      ]
     },
     "execution_count": 34,
     "metadata": {},
     "output_type": "execute_result"
    }
   ],
   "source": [
    "recipes['instructions'].head()"
   ]
  },
  {
   "cell_type": "markdown",
   "metadata": {
    "collapsed": true
   },
   "source": [
    "###  Compute Term Frequency-Inverse Document Frequency (TF-IDF) vectors for each document\n",
    "This will give you a matrix where each column represents a word in the overview vocabulary (all the words that appear in at least one document) and each column represents a recipe, as before.\n",
    "\n",
    "TF-IDF score is the frequency of a word occurring in a document, down-weighted by the number of documents in which it occurs. This is done to reduce the importance of words that occur frequently in plot overviews and therefore, their significance in computing the final similarity score"
   ]
  },
  {
   "cell_type": "code",
   "execution_count": 35,
   "metadata": {
    "collapsed": true
   },
   "outputs": [],
   "source": [
    "#Import TfIdfVectorizer from scikit-learn\n",
    "from sklearn.feature_extraction.text import TfidfVectorizer"
   ]
  },
  {
   "cell_type": "code",
   "execution_count": 36,
   "metadata": {
    "collapsed": true
   },
   "outputs": [],
   "source": [
    "#Define a TF-IDF Vectorizer Object. Remove all english stop words such as 'the', 'a'\n",
    "tfidf = TfidfVectorizer(stop_words='english')"
   ]
  },
  {
   "cell_type": "code",
   "execution_count": 37,
   "metadata": {},
   "outputs": [
    {
     "data": {
      "text/plain": [
       "0    ['5 cups cubed potatoes', '2 cups carrots, sli...\n",
       "1    ['1/2 cup butter', '1 cup white sugar', '1 cup...\n",
       "2    ['1 (10 pound) whole goose', '2 tablespoons ko...\n",
       "3    ['1 cup packed brown sugar', '1 cup white suga...\n",
       "4    ['10 pounds white potatoes, peeled and quarter...\n",
       "Name: ingredients, dtype: object"
      ]
     },
     "execution_count": 37,
     "metadata": {},
     "output_type": "execute_result"
    }
   ],
   "source": [
    "#Replace NaN with an empty string\n",
    "recipes['ingredients'] =recipes['ingredients'].fillna('')\n",
    "recipes['ingredients'].head()"
   ]
  },
  {
   "cell_type": "code",
   "execution_count": 38,
   "metadata": {
    "collapsed": true
   },
   "outputs": [],
   "source": [
    "#Construct the required TF-IDF matrix by fitting and transforming the data\n",
    "tfidf_matrix = tfidf.fit_transform(recipes['ingredients'])"
   ]
  },
  {
   "cell_type": "markdown",
   "metadata": {},
   "source": [
    "## 1621 words were used to describe ingredients, for 5422 recipes"
   ]
  },
  {
   "cell_type": "code",
   "execution_count": 39,
   "metadata": {},
   "outputs": [
    {
     "data": {
      "text/plain": [
       "(5422, 1621)"
      ]
     },
     "execution_count": 39,
     "metadata": {},
     "output_type": "execute_result"
    }
   ],
   "source": [
    "#Output the shape of tfidf_matrix\n",
    "tfidf_matrix.shape"
   ]
  },
  {
   "cell_type": "markdown",
   "metadata": {},
   "source": [
    "You will be using the cosine similarity to calculate a numeric quantity that denotes the similarity between two movies. You use the cosine similarity score since it is independent of magnitude and is relatively easy and fast to calculate (especially when used in conjunction with TF-IDF scores, which will be explained later). Mathematically, it is defined as follows: \n",
    "\n",
    "cosine(x,y)=x.y⊺||x||.||y||cosine(x,y)=x.y⊺||x||.||y||\n",
    "Since you have used the TF-IDF vectorizer, calculating the dot product will directly give you the cosine similarity score. Therefore, you will use sklearn's linear_kernel() instead of cosine_similarities() since it is faster."
   ]
  },
  {
   "cell_type": "code",
   "execution_count": 40,
   "metadata": {
    "collapsed": true
   },
   "outputs": [],
   "source": [
    "# Import linear_kernel\n",
    "from sklearn.metrics.pairwise import linear_kernel"
   ]
  },
  {
   "cell_type": "code",
   "execution_count": 41,
   "metadata": {
    "collapsed": true
   },
   "outputs": [],
   "source": [
    "# Compute the cosine similarity matrix\n",
    "cosine_sim = linear_kernel(tfidf_matrix, tfidf_matrix)"
   ]
  },
  {
   "cell_type": "markdown",
   "metadata": {},
   "source": [
    "You're going to define a function that takes in a movie title as an input and outputs a list of the 10 most similar movies. Firstly, for this, you need a reverse mapping of movie titles and DataFrame indices. In other words, you need a mechanism to identify the index of a movie in your metadata DataFrame, given its title."
   ]
  },
  {
   "cell_type": "code",
   "execution_count": 42,
   "metadata": {
    "collapsed": true
   },
   "outputs": [],
   "source": [
    "#Construct a reverse map of indices and movie titles\n",
    "indices = pd.Series(recipes.index, index=recipes['title']).drop_duplicates()"
   ]
  },
  {
   "cell_type": "markdown",
   "metadata": {},
   "source": [
    "- Get the index of the movie given its title.\n",
    "- Get the list of cosine similarity scores for that particular movie with all movies. Convert it into a list of tuples where the first element is its position and the second is the similarity score.\n",
    "- Sort the aforementioned list of tuples based on the similarity scores; that is, the second element.\n",
    "- Get the top 10 elements of this list. Ignore the first element as it refers to self (the movie most similar to a particular movie is the movie itself).\n",
    "- Return the titles corresponding to the indices of the top elements."
   ]
  },
  {
   "cell_type": "code",
   "execution_count": null,
   "metadata": {
    "collapsed": true
   },
   "outputs": [],
   "source": [
    "# Function that takes in movie title as input and outputs most similar movies\n",
    "def get_recommendations(title, cosine_sim=cosine_sim):\n",
    "    # Get the index of the movie that matches the title\n",
    "    idx = indices[title]\n",
    "\n",
    "    # Get the pairwsie similarity scores of all movies with that movie\n",
    "    sim_scores = list(enumerate(cosine_sim[idx]))\n",
    "\n",
    "    # Sort the movies based on the similarity scores\n",
    "    sim_scores = sorted(sim_scores, key=lambda x: x[1], reverse=True)\n",
    "\n",
    "    # Get the scores of the 10 most similar movies\n",
    "    sim_scores = sim_scores[1:11]\n",
    "\n",
    "    # Get the movie indices\n",
    "    recipe_indices = [i[0] for i in sim_scores]\n",
    "\n",
    "    # Return the top 10 most similar movies\n",
    "    return recipes['title'].iloc[recipe_indices]"
   ]
  },
  {
   "cell_type": "code",
   "execution_count": 44,
   "metadata": {},
   "outputs": [
    {
     "data": {
      "text/plain": [
       "1009               Banana Split Cookies\n",
       "2586             Cinnamon Sugar Cookies\n",
       "4344         Janine's Best Banana Bread\n",
       "2065                    Pineapple Puffs\n",
       "717                  Butterscotch Bread\n",
       "5007    Grandma's Homemade Banana Bread\n",
       "2411             Lighter Banana Muffins\n",
       "4214                    Streusel Kuchen\n",
       "2959                Finnish Pannu Kakku\n",
       "5054                Banana Bran Muffins\n",
       "Name: title, dtype: object"
      ]
     },
     "execution_count": 44,
     "metadata": {},
     "output_type": "execute_result"
    }
   ],
   "source": [
    "get_recommendations('Banana Crumb Muffins')"
   ]
  },
  {
   "cell_type": "code",
   "execution_count": 45,
   "metadata": {},
   "outputs": [
    {
     "data": {
      "text/plain": [
       "2094    Best Ever Meatloaf with Brown Gravy\n",
       "3856                      Mushroom Meatloaf\n",
       "3970                       Mushroom Risotto\n",
       "1924                            Peanut Soup\n",
       "2985                   Tomato-Mushroom Soup\n",
       "4712            Oven Fried Parmesan Chicken\n",
       "4534       Mouth-Watering Stuffed Mushrooms\n",
       "3105       Mushroom Stuffed Chicken Rollups\n",
       "5160                         Mushroom Sauce\n",
       "3021                       Creamy Corn Soup\n",
       "Name: title, dtype: object"
      ]
     },
     "execution_count": 45,
     "metadata": {},
     "output_type": "execute_result"
    }
   ],
   "source": [
    "get_recommendations('Stuffed Mushrooms IV')"
   ]
  },
  {
   "cell_type": "code",
   "execution_count": 46,
   "metadata": {},
   "outputs": [
    {
     "data": {
      "text/plain": [
       "4517        Maple Roast Turkey and Gravy\n",
       "2340     Awesome Tangerine-Glazed Turkey\n",
       "4813                   Vegetable Chowder\n",
       "4533            Beef and Barley Soup III\n",
       "3667                   Oyster Dressing I\n",
       "4862    Ibby's Pumpkin Mushroom Stuffing\n",
       "1874                 Veggie Cheddar Soup\n",
       "4024                 Chicken Jambalaya I\n",
       "1433                   Mushroom Stuffing\n",
       "5387               Mulligatawny Soup III\n",
       "Name: title, dtype: object"
      ]
     },
     "execution_count": 46,
     "metadata": {},
     "output_type": "execute_result"
    }
   ],
   "source": [
    "get_recommendations('Maple Roast Turkey')"
   ]
  },
  {
   "cell_type": "markdown",
   "metadata": {
    "collapsed": true
   },
   "source": [
    "# Credits, Genres and Keywords Based Recommender\n",
    "\n",
    "# the 3 top actors, the director, related genres and the movie plot keywords.\n",
    "\n",
    "# => category, instructions keywords, description"
   ]
  },
  {
   "cell_type": "code",
   "execution_count": null,
   "metadata": {},
   "outputs": [],
   "source": [
    "description = pd.read_csv('myRec/app/recommender_comp/datasets/data_description.csv', sep=\",\", error_bad_lines=False, encoding=\"latin-1\")\n",
    "description"
   ]
  },
  {
   "cell_type": "code",
   "execution_count": null,
   "metadata": {},
   "outputs": [],
   "source": [
    "recipes = pd.merge(recipes, description.iloc[:, [0,4]], how='left', on='id')\n",
    "recipes.head()"
   ]
  },
  {
   "cell_type": "code",
   "execution_count": null,
   "metadata": {
    "collapsed": true
   },
   "outputs": [],
   "source": [
    "from ast import literal_eval"
   ]
  },
  {
   "cell_type": "code",
   "execution_count": null,
   "metadata": {
    "collapsed": true
   },
   "outputs": [],
   "source": [
    "features = ['ingredients', 'calories', 'category', 'description']"
   ]
  },
  {
   "cell_type": "code",
   "execution_count": null,
   "metadata": {
    "collapsed": true
   },
   "outputs": [],
   "source": [
    "import numpy as np"
   ]
  },
  {
   "cell_type": "code",
   "execution_count": null,
   "metadata": {},
   "outputs": [],
   "source": [
    "\n",
    "recipes[features].head()"
   ]
  },
  {
   "cell_type": "code",
   "execution_count": 81,
   "metadata": {},
   "outputs": [
    {
     "ename": "SyntaxError",
     "evalue": "invalid syntax (<ipython-input-81-60361d810414>, line 10)",
     "output_type": "error",
     "traceback": [
      "\u001b[1;36m  File \u001b[1;32m\"<ipython-input-81-60361d810414>\"\u001b[1;36m, line \u001b[1;32m10\u001b[0m\n\u001b[1;33m    return [str.lower.maketrans('', '', digits (reduce(lambda a, kv: a.replace(*kv), repls, x)) for i in x]\u001b[0m\n\u001b[1;37m                                                                                                          ^\u001b[0m\n\u001b[1;31mSyntaxError\u001b[0m\u001b[1;31m:\u001b[0m invalid syntax\n"
     ]
    }
   ],
   "source": [
    "from functools import reduce\n",
    "from string import digits\n",
    "\n",
    "# Function to convert all strings to lower case and strip names of spaces\n",
    "repls = ('cups', ''), ('cup', ''), ('potatoes', ''), ('tablespoons', ''), ('pounds', ''), ('pound', '') \n",
    "\n",
    "#return reduce(lambda a, kv: a.replace(*kv), repls, x)\n",
    "def clean_data(x):\n",
    "    if isinstance(x, list):\n",
    "        return [str.lower(reduce(lambda a, kv: a.replace(*kv), repls, x) for i in x]\n",
    "    else:\n",
    "        #Check if director exists. If not, return empty string\n",
    "        if isinstance(x, str):\n",
    "            return str.lower(reduce(lambda a, kv: a.replace(*kv), repls, x))\n",
    "        else:\n",
    "            return ''"
   ]
  },
  {
   "cell_type": "code",
   "execution_count": null,
   "metadata": {
    "collapsed": true
   },
   "outputs": [],
   "source": [
    "# Apply clean_data function to your features.\n",
    "features = ['ingredients', 'category', 'description']\n",
    "\n",
    "for feature in features:\n",
    "    recipes[feature] = recipes[feature].apply(clean_data)\n",
    "\n",
    "    \n",
    "recipes.head()"
   ]
  },
  {
   "cell_type": "code",
   "execution_count": null,
   "metadata": {
    "collapsed": true
   },
   "outputs": [],
   "source": [
    "recipes[features].head()"
   ]
  },
  {
   "cell_type": "code",
   "execution_count": 69,
   "metadata": {
    "collapsed": true
   },
   "outputs": [],
   "source": [
    "def create_soup(x):\n",
    "    return ' '.join(x['ingredients']) + ' ' + x['category'] + ' ' + ' '.join(x['description'])"
   ]
  },
  {
   "cell_type": "code",
   "execution_count": 70,
   "metadata": {
    "collapsed": true
   },
   "outputs": [],
   "source": [
    "# Create a new soup feature\n",
    "recipes['soup'] = recipes.apply(create_soup, axis=1)"
   ]
  },
  {
   "cell_type": "code",
   "execution_count": 82,
   "metadata": {},
   "outputs": [
    {
     "data": {
      "text/plain": [
       "(5422, 28)"
      ]
     },
     "execution_count": 82,
     "metadata": {},
     "output_type": "execute_result"
    }
   ],
   "source": [
    "# Import CountVectorizer and create the count matrix\n",
    "from sklearn.feature_extraction.text import CountVectorizer\n",
    "\n",
    "count = CountVectorizer(stop_words='english')\n",
    "count_matrix = count.fit_transform(recipes['soup'])\n",
    "count_matrix.shape"
   ]
  },
  {
   "cell_type": "code",
   "execution_count": 74,
   "metadata": {
    "collapsed": true
   },
   "outputs": [],
   "source": [
    "# Compute the Cosine Similarity matrix based on the count_matrix\n",
    "from sklearn.metrics.pairwise import cosine_similarity\n",
    "\n",
    "cosine_sim2 = cosine_similarity(count_matrix, count_matrix)\n"
   ]
  },
  {
   "cell_type": "code",
   "execution_count": 78,
   "metadata": {},
   "outputs": [
    {
     "data": {
      "text/plain": [
       "0       [ ' 5     c u b e d   ' ,   ' 2     c a r r o ...\n",
       "1       [ ' 1 / 2     b u t t e r ' ,   ' 1     w h i ...\n",
       "2       [ ' 1   ( 1 0   )   w h o l e   g o o s e ' , ...\n",
       "3       [ ' 1     p a c k e d   b r o w n   s u g a r ...\n",
       "4       [ ' 1 0     w h i t e   ,   p e e l e d   a n ...\n",
       "5       [ ' 4   e g g   w h i t e s ' ,   ' 1 / 4   t ...\n",
       "6       [ ' 1   ( 9   i n c h )   p r e p a r e d   c ...\n",
       "7       [ ' 1   ( 9   i n c h )   p r e p a r e d   g ...\n",
       "8       [ ' 1   ( 9   i n c h )   p i e   s h e l l , ...\n",
       "9       [ ' 1   ( 9   i n c h )   u n b a k e d   p i ...\n",
       "10      [ ' 1     g o l d e n   d e l i c i o u s   a ...\n",
       "11      [ ' 2   ( 1   o u n c e )   s q u a r e s   u ...\n",
       "12      [ ' 1   ( 9   i n c h )   p i e   s h e l l ' ...\n",
       "13      [ ' 1   1 / 2     s o u r   c r e a m ' ,   ' ...\n",
       "14      [ ' 4     g r o u n d   h a m ' ,   ' 1 / 3   ...\n",
       "15      [ ' 1     r o t i n i   p a s t a ' ,   ' 1   ...\n",
       "16      [ ' 2     u n s a l t e d   b u t t e r ' ,   ...\n",
       "17      [ ' 1     w a t e r ' ,   ' 2     c h o c o l ...\n",
       "18      [ ' 1   ( 9   i n c h )   p r e p a r e d   c ...\n",
       "19      [ ' 4   e g g s ' ,   ' 3 / 4     w h i t e   ...\n",
       "20      [ ' 1   1 / 3     w a t e r ' ,   ' 1 / 3     ...\n",
       "21      [ ' 1   ( 2 8   o u n c e )   c a n   b a k e ...\n",
       "22      [ ' 2   e g g s ' ,   ' 1   t e a s p o o n   ...\n",
       "23      [ ' 1     s i r l o i n   t i p s ,   c u b e ...\n",
       "24      [ ' 2   ( . 2 5   o u n c e )   p a c k a g e ...\n",
       "25      [ ' 8   o u n c e s   p e a r l   o n i o n s ...\n",
       "26      [ ' 1   ( 8   o u n c e )   p a c k a g e   f ...\n",
       "27      [ ' 1 / 2     w h i t e   s u g a r ' ,   ' 1 ...\n",
       "28      [ ' 1 / 2     d i c e d   b a c o n ' ,   ' 2 ...\n",
       "29      [ ' 1   ( 1 6   o u n c e )   p a c k a g e   ...\n",
       "                              ...                        \n",
       "5392    [ ' 2   a r t i c h o k e s ,   u n c o o k e ...\n",
       "5393    [ ' 4   e g g s ' ,   ' 1   t e a s p o o n   ...\n",
       "5394    [ ' 6     w h i t e   s u g a r ' ,   ' 1   t ...\n",
       "5395    [ ' 3 / 4     g r o u n d   t o a s t e d   m ...\n",
       "5396    [ ' 2 4   c h e r r y   t o m a t o e s ' ] si...\n",
       "5397    [ ' 1 / 2     g a r b a n z o   b e a n s ' , ...\n",
       "5398    [ ' 1   p r e p a r e d   8   i n c h   p a s ...\n",
       "5399    [ ' 1 / 2   p e e l   o f   s m a l l   m a n ...\n",
       "5400    [ ' 1   1 / 2     w h i t e   s u g a r ' ,   ...\n",
       "5401    [ \" 8   o u n c e s   v a n i l l a   f l a v ...\n",
       "5402    [ ' 1   r e c i p e   p a s t r y   f o r   a ...\n",
       "5403    [ ' 1   ( 9   i n c h )   p r e p a r e d   g ...\n",
       "5404    [ ' 1   ( 9   i n c h )   p i e   c r u s t , ...\n",
       "5405    [ ' 3   e g g   w h i t e s ' ,   ' 1     w h ...\n",
       "5406    [ ' 1   ( . 2 5   o u n c e )   p a c k a g e ...\n",
       "5407    [ ' 2   ( 9   i n c h )   p i e   s h e l l ' ...\n",
       "5408    [ ' 4     w a t e r ' ,   ' 1   ( 4   i n c h ...\n",
       "5409    [ ' 1   ( 9   i n c h )   p i e   c r u s t , ...\n",
       "5410    [ ' 1   1 / 2     b a c o n ' ,   ' 1   ( 3 2 ...\n",
       "5411    [ ' 1     r a s p b e r r i e s ' ,   ' 2     ...\n",
       "5412    [ ' 1   r e c i p e   p a s t r y   f o r   a ...\n",
       "5413    [ ' 2     c r a n b e r r i e s ' ,   ' 1   q ...\n",
       "5414    [ ' 3   r e c i p e s   p a s t r y   f o r   ...\n",
       "5415    [ ' 1     f i n e l y   c h o p p e d   w a l ...\n",
       "5416    [ ' 1   ( 1 8 . 2 5   o u n c e )   p a c k a ...\n",
       "5417    [ ' 1 / 2     b u t t e r ' ,   ' 1 / 2     s ...\n",
       "5418    [ ' 1   ( 9   i n c h )   p r e p a r e d   g ...\n",
       "5419    [ ' 1 / 2     b u t t e r ,   s o f t e n e d ...\n",
       "5420    [ ' 3   ( . 2 5   o u n c e )   p a c k a g e ...\n",
       "5421    [ ' 1     b u t t e r ,   s o f t e n e d ' , ...\n",
       "Name: soup, Length: 5422, dtype: object"
      ]
     },
     "execution_count": 78,
     "metadata": {},
     "output_type": "execute_result"
    }
   ],
   "source": [
    "# Reset index of your main DataFrame and construct reverse mapping as before\n",
    "\n",
    "indices = pd.Series(recipes.index, index=recipes['title']).drop_duplicates()\n",
    "recipes['soup']"
   ]
  },
  {
   "cell_type": "code",
   "execution_count": 225,
   "metadata": {},
   "outputs": [
    {
     "data": {
      "text/plain": [
       "87          Spicy Pork and Cabbage\n",
       "116         Dinner in a Pumpkin II\n",
       "126                    Pork Afelia\n",
       "162    Almost Beau Monde Seasoning\n",
       "166            Beef Summer Sausage\n",
       "182                  Beef and Brew\n",
       "185               Carrot Rice Loaf\n",
       "235         Cottage Cheese Loaf II\n",
       "265                    Yuck-a-Muck\n",
       "360        Texas Chili Beef Slices\n",
       "Name: title, dtype: object"
      ]
     },
     "execution_count": 225,
     "metadata": {},
     "output_type": "execute_result"
    }
   ],
   "source": [
    "get_recommendations('Maple Roast Turkey', cosine_sim2)"
   ]
  },
  {
   "cell_type": "code",
   "execution_count": 226,
   "metadata": {},
   "outputs": [
    {
     "data": {
      "text/plain": [
       "20            Chocolate Coffee Bread\n",
       "24              Sweet Bread Overnite\n",
       "42                  Rhubarb Bread II\n",
       "47                 Totally Rye Bread\n",
       "51            Whole Wheat Croissants\n",
       "76                  Pumpkin Bread II\n",
       "80                         Churros I\n",
       "86            Amber's Zucchini Bread\n",
       "100    Pineapple Macadamia Nut Bread\n",
       "135                       Prusurates\n",
       "Name: title, dtype: object"
      ]
     },
     "execution_count": 226,
     "metadata": {},
     "output_type": "execute_result"
    }
   ],
   "source": [
    "get_recommendations('Banana Crumb Muffins', cosine_sim2)"
   ]
  },
  {
   "cell_type": "code",
   "execution_count": 227,
   "metadata": {},
   "outputs": [
    {
     "data": {
      "text/plain": [
       "72                     Crunchy Carrot Ball\n",
       "77            Italian Fried Eggplant Balls\n",
       "124                   Pickled Pig's Feet I\n",
       "127                      Legion Cheese Dip\n",
       "132                   Light Pimento Cheese\n",
       "139    Franks in Peanut Butter and Chutney\n",
       "147                 Creamy Garlic Escargot\n",
       "150                          Cheeseball II\n",
       "180                 Original Buffalo Wings\n",
       "193                  Good, Good Greenbeans\n",
       "Name: title, dtype: object"
      ]
     },
     "execution_count": 227,
     "metadata": {},
     "output_type": "execute_result"
    }
   ],
   "source": [
    "get_recommendations('Stuffed Mushrooms IV', cosine_sim2)"
   ]
  },
  {
   "cell_type": "code",
   "execution_count": null,
   "metadata": {
    "collapsed": true
   },
   "outputs": [],
   "source": []
  },
  {
   "cell_type": "code",
   "execution_count": null,
   "metadata": {
    "collapsed": true
   },
   "outputs": [],
   "source": []
  },
  {
   "cell_type": "code",
   "execution_count": null,
   "metadata": {
    "collapsed": true
   },
   "outputs": [],
   "source": []
  }
 ],
 "metadata": {
  "kernelspec": {
   "display_name": "Python 3",
   "language": "python",
   "name": "python3"
  }
 },
 "nbformat": 4,
 "nbformat_minor": 2
}
