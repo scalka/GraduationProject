{
 "cells": [
  {
   "cell_type": "code",
   "execution_count": 1,
   "metadata": {
    "collapsed": true
   },
   "outputs": [],
   "source": [
    "import numpy as np\n",
    "import pandas as pd\n",
    "from sklearn.model_selection import train_test_split"
   ]
  },
  {
   "cell_type": "code",
   "execution_count": 2,
   "metadata": {
    "collapsed": true
   },
   "outputs": [],
   "source": [
    "import numpy as np\n",
    "from scipy.optimize import fmin_cg\n",
    "\n",
    "\n",
    "def normalize_ratings(ratings):\n",
    "    \"\"\"\n",
    "    Given an array of user ratings, subtract the mean of each product's ratings\n",
    "    :param ratings: 2d array of user ratings\n",
    "    :return: (normalized ratings array, the calculated means)\n",
    "    \"\"\"\n",
    "    mean_ratings = np.nanmean(ratings, axis=0)\n",
    "    return ratings - mean_ratings, mean_ratings\n",
    "\n",
    "\n",
    "def cost(X, *args):\n",
    "    \"\"\"\n",
    "    Cost function for low rank matrix factorization\n",
    "    :param X: The matrices being factored (P and Q) rolled up as a contiguous array\n",
    "    :param args: Array containing (num_users, num_products, num_features, ratings, mask, regularization_amount)\n",
    "    :return: The cost with the current P and Q matrices\n",
    "    \"\"\"\n",
    "    num_users, num_products, num_features, ratings, mask, regularization_amount = args\n",
    "\n",
    "    # Unroll P and Q\n",
    "    P = X[0:(num_users * num_features)].reshape(num_users, num_features)\n",
    "    Q = X[(num_users * num_features):].reshape(num_products, num_features)\n",
    "    Q = Q.T\n",
    "\n",
    "    # Calculate current cost\n",
    "    return (np.sum(np.square(mask * (np.dot(P, Q) - ratings))) / 2) + ((regularization_amount / 2.0) * np.sum(np.square(Q.T))) + ((regularization_amount / 2.0) * np.sum(np.square(P)))\n",
    "\n",
    "\n",
    "def gradient(X, *args):\n",
    "    \"\"\"\n",
    "    Calculate the cost gradients with the current P and Q.\n",
    "    :param X: The matrices being factored (P and Q) rolled up as a contiguous array\n",
    "    :param args: Array containing (num_users, num_products, num_features, ratings, mask, regularization_amount)\n",
    "    :return: The gradient with the current X\n",
    "    \"\"\"\n",
    "    num_users, num_products, num_features, ratings, mask, regularization_amount = args\n",
    "\n",
    "    # Unroll P and Q\n",
    "    P = X[0:(num_users * num_features)].reshape(num_users, num_features)\n",
    "    Q = X[(num_users * num_features):].reshape(num_products, num_features)\n",
    "    Q = Q.T\n",
    "\n",
    "    # Calculate the current gradients for both P and Q\n",
    "    P_grad = np.dot((mask * (np.dot(P, Q) - ratings)), Q.T) + (regularization_amount * P)\n",
    "    Q_grad = np.dot((mask * (np.dot(P, Q) - ratings)).T, P) + (regularization_amount * Q.T)\n",
    "\n",
    "    # Return the gradients as one rolled-up array as expected by fmin_cg\n",
    "    return np.append(P_grad.ravel(), Q_grad.ravel())\n",
    "\n",
    "\n",
    "def low_rank_matrix_factorization(ratings, mask=None, num_features=15, regularization_amount=0.01):\n",
    "    \"\"\"\n",
    "    Factor a ratings array into two latent feature arrays (user features and product features)\n",
    "\n",
    "    :param ratings: Matrix with user ratings to factor\n",
    "    :param mask: A binary mask of which ratings are present in the ratings array to factor\n",
    "    :param num_features: Number of latent features to generate for users and products\n",
    "    :param regularization_amount: How much regularization to apply\n",
    "    :return: (P, Q) - the factored latent feature arrays\n",
    "    \"\"\"\n",
    "    num_users, num_products = ratings.shape\n",
    "\n",
    "    # If no mask is provided, consider all 'NaN' elements as missing and create a mask.\n",
    "    if mask is None:\n",
    "        mask = np.invert(np.isnan(ratings))\n",
    "\n",
    "    # Replace NaN values with zero\n",
    "    ratings = np.nan_to_num(ratings)\n",
    "\n",
    "    # Create P and Q and fill with random numbers to start\n",
    "    np.random.seed(0)\n",
    "    P = np.random.randn(num_users, num_features)\n",
    "    Q = np.random.randn(num_products, num_features)\n",
    "\n",
    "    # Roll up P and Q into a contiguous array as fmin_cg expects\n",
    "    initial = np.append(P.ravel(), Q.ravel())\n",
    "\n",
    "    # Create an args array as fmin_cg expects\n",
    "    args = (num_users, num_products, num_features, ratings, mask, regularization_amount)\n",
    "\n",
    "    # Call fmin_cg to minimize the cost function and this find the best values for P and Q\n",
    "    X = fmin_cg(cost, initial, fprime=gradient, args=args, maxiter=3000)\n",
    "\n",
    "    # Unroll the new P and new Q arrays out of the contiguous array returned by fmin_cg\n",
    "    nP = X[0:(num_users * num_features)].reshape(num_users, num_features)\n",
    "    nQ = X[(num_users * num_features):].reshape(num_products, num_features)\n",
    "\n",
    "    return nP, nQ.T\n",
    "\n",
    "\n",
    "def RMSE(real, predicted):\n",
    "    \"\"\"\n",
    "    Calculate the root mean squared error between a matrix of real ratings and predicted ratings\n",
    "    :param real: A matrix containing the real ratings (with 'NaN' for any missing elements)\n",
    "    :param predicted: A matrix of predictions\n",
    "    :return: The RMSE as a float\n",
    "    \"\"\"\n",
    "\n",
    "    return np.sqrt(np.nanmean(np.square(real - predicted)))\n"
   ]
  },
  {
   "cell_type": "code",
   "execution_count": 8,
   "metadata": {
    "collapsed": true
   },
   "outputs": [],
   "source": [
    "raw_training_dataset_df = pd.read_csv('datasets/new_df.csv', sep=\",\", error_bad_lines=False, encoding=\"latin-1\")"
   ]
  },
  {
   "cell_type": "code",
   "execution_count": 6,
   "metadata": {
    "collapsed": true
   },
   "outputs": [],
   "source": [
    "raw_testing_dataset_df = pd.read_csv('datasets/new_df_test.csv', sep=\",\", error_bad_lines=False, encoding=\"latin-1\")"
   ]
  },
  {
   "cell_type": "code",
   "execution_count": 9,
   "metadata": {},
   "outputs": [],
   "source": [
    "raw_training_dataset_df, raw_testing_dataset_df = train_test_split(raw_training_dataset_df, test_size=0.3)"
   ]
  },
  {
   "cell_type": "code",
   "execution_count": 10,
   "metadata": {
    "collapsed": true
   },
   "outputs": [],
   "source": [
    "ratings_training_df = pd.pivot_table(raw_training_dataset_df, index='user_id', columns='recipes_id', aggfunc=np.max).fillna(0)\n",
    "ratings_testing_df = pd.pivot_table(raw_testing_dataset_df, index='user_id', columns='recipes_id', aggfunc=np.max).fillna(0)"
   ]
  },
  {
   "cell_type": "code",
   "execution_count": 12,
   "metadata": {},
   "outputs": [
    {
     "name": "stdout",
     "output_type": "stream",
     "text": [
      "Optimization terminated successfully.\n",
      "         Current function value: 241.037496\n",
      "         Iterations: 76\n",
      "         Function evaluations: 128\n",
      "         Gradient evaluations: 128\n"
     ]
    }
   ],
   "source": [
    "U, M = low_rank_matrix_factorization(ratings_training_df.as_matrix(),\n",
    "                                                                    num_features=10,\n",
    "                                                                    regularization_amount=1.1)\n"
   ]
  },
  {
   "cell_type": "code",
   "execution_count": 21,
   "metadata": {},
   "outputs": [
    {
     "name": "stdout",
     "output_type": "stream",
     "text": [
      "[[  1.34168813e-01   4.78652267e+00  -3.17905098e-02   1.12040046e+01\n",
      "    2.19046540e-02  -4.69371396e-03   1.54779400e+01  -6.87777185e-02\n",
      "    3.43434793e-02   1.05258809e-02   1.47988614e-01   3.79376158e+00\n",
      "   -4.19282159e-02   4.66833512e+00   5.67816441e-02  -6.26108597e-04\n",
      "    4.77105272e+00  -7.02655755e-03   6.60485399e-03  -2.84693745e-02]\n",
      " [ -1.29310268e-02   7.21510821e+00  -2.71602738e-03   1.77281589e-01\n",
      "    8.57683943e+00  -4.47758140e-02   4.20563381e-02   2.06329364e-02\n",
      "    7.85295306e-03   3.42230608e-02  -5.80101357e-02   3.62971439e+00\n",
      "   -5.15471442e-02   7.38672144e-02   4.54680508e+00  -5.96991741e-03\n",
      "    3.68538202e-02   1.26981366e-03   1.50992427e-03   1.49892678e-01]\n",
      " [ -1.11417807e-02  -1.27222380e-02   1.83586064e-02  -1.87716552e-03\n",
      "    4.72393982e-02   2.90441621e+01   6.87114341e-03  -2.99544920e-03\n",
      "   -1.94121871e-02   2.64864025e+01   3.60479360e-03  -6.59600417e-03\n",
      "    6.86002987e-02  -7.82191877e-04   1.87161179e-03   3.87255492e+00\n",
      "    1.00336510e-03  -2.31791476e-04  -3.73322752e-03   4.90902701e+00]\n",
      " [  2.31731264e+01  -1.76103341e-02   5.81916380e+00  -1.70244948e-01\n",
      "   -9.90420394e-03  -2.49388305e-02   2.51328816e-01   2.44443369e+01\n",
      "    1.07578858e-01   3.53243986e-02   3.12195429e+00  -3.00856849e-02\n",
      "    4.77566478e+00  -7.09354413e-02   2.25748950e-02  -3.32492214e-03\n",
      "    2.01732465e-02   3.92177211e+00   2.06879444e-02  -1.43088575e-02]\n",
      " [  1.39801996e+00   1.13678962e-02   8.80064739e-02   1.49165708e-01\n",
      "    1.05609625e-02   2.32000570e-02  -1.83579794e-01   2.21087901e+01\n",
      "   -8.65947922e-02  -3.12112920e-02   4.63394651e+00   2.43300973e-02\n",
      "    1.30814857e-01   6.21525829e-02  -2.13258013e-02   3.09337890e-03\n",
      "   -1.06981617e-02   3.83340006e+00  -1.66527042e-02   1.42779784e-02]\n",
      " [ -1.17385532e-02   2.91405688e-01   2.23375955e-02  -1.02514036e-01\n",
      "    1.20855399e+01   1.40012139e-01  -5.91170558e-03  -1.46453756e-02\n",
      "   -3.10808231e-02   9.72853361e+00   4.10428685e-02   1.32889159e-01\n",
      "    1.18304796e-01  -4.27139277e-02   2.01031061e+00   1.86684371e-02\n",
      "   -1.78046567e-02  -6.76864225e-04  -5.97666478e-03   4.61631276e+00]\n",
      " [  1.74760257e+01   5.43717133e-02   5.83913910e-02   3.08153646e-01\n",
      "   -2.32475954e-03   1.33928027e-02   2.01830505e+01   1.50539116e-01\n",
      "   -5.74935632e-02  -1.99727458e-02   4.68492995e+00   6.57045707e-02\n",
      "    8.36781908e-02   1.28397327e-01  -3.38112424e-02   1.78520845e-03\n",
      "    3.89452702e+00   1.82582626e-02  -1.10560158e-02   1.92234970e-02]\n",
      " [  4.37644441e-02  -1.12206146e-01   2.89056880e+00   6.01069685e-02\n",
      "    2.32404287e-01   4.49979217e-01  -1.88715359e-02   1.96288282e-02\n",
      "    8.49950257e-02   1.91179065e+01  -3.28858505e-02  -4.85894755e-02\n",
      "    4.64153549e+00   2.50444253e-02  -2.62726426e-02   5.99971724e-02\n",
      "    6.18469512e-03   1.47374935e-03   1.63450967e-02   2.98607689e+00]\n",
      " [  5.61702424e-02   9.02112100e-03   2.82067071e+01   1.58509179e-02\n",
      "   -1.28225807e-02  -2.23983551e-02  -2.53036000e-02   2.68386396e-02\n",
      "    2.52577213e+01   3.32678496e-02  -1.52965846e-02   6.49186046e-03\n",
      "    2.95138625e+00   6.60454451e-03  -8.80561916e-04  -2.98649227e-03\n",
      "   -2.24077634e-03   3.22840577e-03   4.85725415e+00   9.67237704e-05]]\n"
     ]
    }
   ],
   "source": [
    "predicted_ratings = np.matmul(U, M)\n",
    "print(predicted_ratings);"
   ]
  },
  {
   "cell_type": "code",
   "execution_count": 22,
   "metadata": {},
   "outputs": [
    {
     "name": "stdout",
     "output_type": "stream",
     "text": [
      "0.245967470984\n"
     ]
    }
   ],
   "source": [
    "rmse_training = RMSE(ratings_training_df.as_matrix(),\n",
    "                                                    predicted_ratings)\n",
    "print(rmse_training);"
   ]
  },
  {
   "cell_type": "code",
   "execution_count": 24,
   "metadata": {},
   "outputs": [
    {
     "ename": "ValueError",
     "evalue": "cannot reshape array of size 180 into shape (9,16)",
     "output_type": "error",
     "traceback": [
      "\u001b[1;31m---------------------------------------------------------------------------\u001b[0m",
      "\u001b[1;31mValueError\u001b[0m                                Traceback (most recent call last)",
      "\u001b[1;32m<ipython-input-24-836802dee5a0>\u001b[0m in \u001b[0;36m<module>\u001b[1;34m()\u001b[0m\n\u001b[0;32m      1\u001b[0m rmse_testing = RMSE(ratings_testing_df.as_matrix(),\n\u001b[1;32m----> 2\u001b[1;33m                                                    predicted_ratings.reshape(9,16))\n\u001b[0m",
      "\u001b[1;31mValueError\u001b[0m: cannot reshape array of size 180 into shape (9,16)"
     ]
    }
   ],
   "source": [
    "rmse_testing = RMSE(ratings_testing_df.as_matrix(),\n",
    "                                                   predicted_ratings.reshape(9,16))"
   ]
  },
  {
   "cell_type": "code",
   "execution_count": null,
   "metadata": {
    "collapsed": true
   },
   "outputs": [],
   "source": []
  }
 ],
 "metadata": {
  "kernelspec": {
   "display_name": "Python 3",
   "language": "python",
   "name": "python3"
  },
  "language_info": {
   "codemirror_mode": {
    "name": "ipython",
    "version": 3
   },
   "file_extension": ".py",
   "mimetype": "text/x-python",
   "name": "python",
   "nbconvert_exporter": "python",
   "pygments_lexer": "ipython3",
   "version": "3.6.3"
  }
 },
 "nbformat": 4,
 "nbformat_minor": 2
}
